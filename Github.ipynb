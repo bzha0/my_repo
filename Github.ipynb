{
 "cells": [
  {
   "cell_type": "markdown",
   "metadata": {},
   "source": [
    "# Github Maintenance"
   ]
  },
  {
   "cell_type": "markdown",
   "metadata": {
    "tags": []
   },
   "source": [
    "## 1. Build local repository and push it onto Githab"
   ]
  },
  {
   "cell_type": "markdown",
   "metadata": {},
   "source": [
    "1. **Initialize a local Git repository**: After creating the GitHub repository, navigate to the directory where you want to store your project files and run the following commands to initialize a local Git repository:\n",
    "\n",
    "```bash\n",
    "git init\n",
    "```\n",
    "\n",
    "2. **Add and commit your files**: Add your project files to the local repository and make an initial commit:\n",
    "\n",
    "```bash\n",
    "echo \"# ML_Lecture_database\" >> README.md\n",
    "git init\n",
    "git add README.md\n",
    "\n",
    "- sometimes needed\n",
    "    git config --global user.email \"you@example.com\"\n",
    "    git config --global user.name \"Your Name\"\n",
    "    \n",
    "git commit -m \"first commit\" (The operation you performed)\n",
    "git branch -M main\n",
    "\n",
    "```\n",
    "\n",
    "3. **Connect the local repository to the GitHub repository**: Add the remote GitHub repository as the origin for your local repository:\n",
    "\n",
    "```bash\n",
    "git remote add origin https://github.com/your-username/your-repo-name.git\n",
    "```\n",
    "\n",
    "Replace `your-username` with your GitHub username and `your-repo-name` with the name of the repository you created earlier.\n",
    "\n",
    "4. **Push your changes to GitHub**: Finally, push your local changes to the remote GitHub repository:\n",
    "\n",
    "- for the first time, you need to adding a new SSH key to your GitHub account, check the website atttached below:\n",
    "https://docs.github.com/en/authentication/connecting-to-github-with-ssh/adding-a-new-ssh-key-to-your-github-account?tool=webui\n",
    "\n",
    "```bash\n",
    "git push -u origin main\n",
    "```\n",
    "\n",
    "(Note: If you're using an older version of Git, the default branch may be named `master` instead of `main`. In that case, replace `main` with `master` in the command above.)\n",
    "\n",
    "\n",
    "Now you have successfully created a new GitHub repository using the command line and pushed your local changes to the remote repository."
   ]
  },
  {
   "cell_type": "markdown",
   "metadata": {
    "tags": []
   },
   "source": [
    "## 2. Remove files/folders or Commits"
   ]
  },
  {
   "cell_type": "markdown",
   "metadata": {},
   "source": [
    "If you want to remove something using Git and GitHub, the process will depend on what you're trying to remove. Here are some common scenarios:\n",
    "\n",
    "1. **Remove a file from your working directory**: To remove a file from your working directory (i.e., the folder where your project files are stored), you can use the `rm` command (for Unix-based systems) or `del` command (for Windows):\n",
    "\n",
    "```bash\n",
    "# Unix-based systems\n",
    "rm file-to-remove.txt\n",
    "rm -r folder-to-remove\n",
    "\n",
    "# Windows\n",
    "del file-to-remove.txt\n",
    "```\n",
    "\n",
    "2. **Remove a file from the Git repository**: If you want to remove a file from the Git repository and stop tracking it, use the `git rm` command:\n",
    "\n",
    "```bash\n",
    "git rm file-to-remove.txt\n",
    "git rm -r folder-to-remove\n",
    "```\n",
    "\n",
    "After running this command, you'll need to commit the changes:\n",
    "\n",
    "```bash\n",
    "git commit -m \"Remove file-to-remove.txt\" (The operation you performed)\n",
    "```\n",
    "\n",
    "Finally, push the changes to the remote GitHub repository:\n",
    "\n",
    "```bash\n",
    "git push origin main\n",
    "```\n",
    "\n",
    "(Note: If you're using an older version of Git, the default branch may be named `master` instead of `main`. In that case, replace `main` with `master` in the command above.)\n",
    "\n",
    "3. **Remove a Git commit**: If you want to remove a specific commit, you can use the `git revert` command to create a new commit that undoes the changes made in the target commit:\n",
    "\n",
    "```bash\n",
    "git revert commit-hash\n",
    "```\n",
    "\n",
    "Replace `commit-hash` with the hash of the commit you want to remove. You can find the commit hash by running `git log`. After running the `git revert` command, a new commit will be created that undoes the changes of the target commit. Push the changes to the remote GitHub repository:\n",
    "\n",
    "```bash\n",
    "git push origin main\n",
    "```\n",
    "\n",
    "4. **Delete a remote GitHub repository**: To delete a remote GitHub repository, you'll need to do it from the GitHub website:\n",
    "\n",
    "- Go to the main page of the repository on GitHub.\n",
    "- Click on the \"Settings\" tab.\n",
    "- Scroll down to the \"Danger Zone\" section.\n",
    "- Click on \"Delete this repository\" and follow the prompts to confirm the deletion.\n",
    "\n",
    "Keep in mind that deleting a remote repository is a permanent action and cannot be undone. Make sure you have a backup of your repository if you need to access the files in the future.\n",
    "\n",
    "These are some common scenarios for removing items in Git and GitHub. Depending on your specific use case, the process may vary."
   ]
  },
  {
   "cell_type": "markdown",
   "metadata": {
    "tags": []
   },
   "source": [
    "## 3. Pull your newest repository to update the local one, made modification and add side branch"
   ]
  },
  {
   "cell_type": "markdown",
   "metadata": {},
   "source": [
    "If you already have a local repository, you can follow these steps to pull the latest changes from the remote repository, make modifications, and add a side branch:\n",
    "\n",
    "1. **Navigate to the local repository**: Change your working directory to the local repository:\n",
    "\n",
    "```bash\n",
    "cd your-repo-name\n",
    "```\n",
    "\n",
    "Replace `your-repo-name` with the name of your local repository.\n",
    "\n",
    "2. **Pull the latest changes**: Pull the latest changes from the remote repository using the `git pull` command:\n",
    "\n",
    "```bash\n",
    "git pull origin main\n",
    "```\n",
    "\n",
    "(Note: If you're using an older version of Git, the default branch may be named `master` instead of `main`. In that case, replace `main` with `master` in the command above.)\n",
    "\n",
    "3. **Create a new branch**: Create a new side branch to make your modifications. Replace `side-branch-name` with the desired name for your new branch:\n",
    "\n",
    "```bash\n",
    "git checkout -b side-branch-name\n",
    "```\n",
    "\n",
    "4. **Make modifications**: Modify your files in the local repository as needed.\n",
    "\n",
    "5. **Stage your changes**: Stage the modified files using the `git add` command. You can stage individual files or all modified files:\n",
    "\n",
    "```bash\n",
    "# Stage a specific file\n",
    "git add file-to-stage.txt\n",
    "\n",
    "# Stage all modified files\n",
    "git add .\n",
    "```\n",
    "\n",
    "6. **Commit your changes**: Commit the staged changes with a descriptive message:\n",
    "\n",
    "```bash\n",
    "git commit -m \"Description of the changes made\"\n",
    "```\n",
    "\n",
    "7. **Push the new branch**: Push the new side branch to the remote GitHub repository:\n",
    "\n",
    "```bash\n",
    "git push -u origin side-branch-name\n",
    "```\n",
    "\n",
    "Replace `side-branch-name` with the name of your side branch.\n",
    "\n",
    "Now, you have successfully pulled the latest changes from the remote repository, made modifications, and added a side branch. The new branch is available on the remote GitHub repository, and you can create a pull request to merge the changes into the main branch if needed."
   ]
  },
  {
   "cell_type": "markdown",
   "metadata": {
    "tags": []
   },
   "source": [
    "## 4. Merge the branches"
   ]
  },
  {
   "cell_type": "markdown",
   "metadata": {},
   "source": [
    "To merge branches in Git, follow these steps:\n",
    "\n",
    "1. **Navigate to the local repository**: If you're not already in your local repository, change your working directory to it:\n",
    "\n",
    "```bash\n",
    "cd your-repo-name\n",
    "```\n",
    "\n",
    "Replace `your-repo-name` with the name of your local repository.\n",
    "\n",
    "2. **Make sure both branches are up to date**: Ensure that both the source branch (the branch you want to merge from) and the target branch (the branch you want to merge into) are up to date with the remote repository. In this example, I'll use `side-branch-name` as the source branch and `main` as the target branch:\n",
    "\n",
    "```bash\n",
    "git checkout side-branch-name\n",
    "git pull origin side-branch-name\n",
    "\n",
    "git checkout main\n",
    "git pull origin main\n",
    "```\n",
    "\n",
    "3. **Switch to the target branch**: Ensure you're on the target branch (in this example, `main`):\n",
    "\n",
    "```bash\n",
    "git checkout main\n",
    "```\n",
    "\n",
    "4. **Merge the source branch**: Merge the source branch (in this example, `side-branch-name`) into the target branch:\n",
    "\n",
    "```bash\n",
    "git merge side-branch-name\n",
    "```\n",
    "\n",
    "If there are any merge conflicts, Git will notify you. You'll need to manually resolve the conflicts in the affected files, stage the resolved files with `git add`, and then commit the changes with `git commit`.\n",
    "\n",
    "5. **Push the changes**: After the merge is complete, push the changes to the remote repository:\n",
    "\n",
    "```bash\n",
    "git push -u origin main\n",
    "```\n",
    "\n",
    "Now, you have successfully merged the `side-branch-name` branch into the `main` branch. The changes from the source branch are now part of the target branch, both locally and in the remote repository."
   ]
  },
  {
   "cell_type": "markdown",
   "metadata": {
    "tags": []
   },
   "source": [
    "## 5. Prevent the local repository changes being overwrite by pull remote branch"
   ]
  },
  {
   "cell_type": "markdown",
   "metadata": {},
   "source": [
    "To prevent your local changes from being overwritten when pulling changes from a remote branch, you can use `git stash` to temporarily save your local changes, and then apply them back after pulling the remote branch. Here's how to do it:\n",
    "\n",
    "1. **Navigate to the local repository**: If you're not already in your local repository, change your working directory to it:\n",
    "\n",
    "```bash\n",
    "cd your-repo-name\n",
    "```\n",
    "\n",
    "Replace `your-repo-name` with the name of your local repository.\n",
    "\n",
    "2. **Stash your local changes**: Save your local changes using the `git stash` command:\n",
    "\n",
    "```bash\n",
    "git stash\n",
    "```\n",
    "\n",
    "This command will save your local changes and revert your working directory to the latest commit, allowing you to safely pull the remote branch without overwriting your local changes.\n",
    "\n",
    "3. **Pull the remote branch**: Pull the latest changes from the remote branch:\n",
    "\n",
    "```bash\n",
    "git pull origin branch-name\n",
    "```\n",
    "\n",
    "Replace `branch-name` with the name of the remote branch you want to pull.\n",
    "\n",
    "4. **Apply your stashed changes**: After pulling the remote branch, apply your stashed changes back to your working directory using the `git stash apply` command:\n",
    "\n",
    "```bash\n",
    "git stash apply\n",
    "```\n",
    "\n",
    "This command will apply the stashed changes back to your working directory. If there are any conflicts between your local changes and the changes from the remote branch, Git will notify you, and you'll need to manually resolve the conflicts.\n",
    "\n",
    "5. **Remove the stash**: Once you've applied the stashed changes, you can remove the stash from your list of stashes using the `git stash drop` command:\n",
    "\n",
    "```bash\n",
    "git stash drop\n",
    "```\n",
    "\n",
    "Now, you've successfully pulled the remote branch without overwriting your local changes."
   ]
  },
  {
   "cell_type": "markdown",
   "metadata": {},
   "source": [
    "## 6. Forking a Git repository"
   ]
  },
  {
   "cell_type": "markdown",
   "metadata": {},
   "source": [
    "Forking a Git repository is the process of creating a personal copy of someone else's project on a platform like GitHub or GitLab. This allows you to freely experiment with changes without affecting the original project. Typically, you'd fork a repository to propose changes to someone else's project or to use their project as a starting point for your own ideas.\n",
    "\n",
    "Here's how to fork a repository on GitHub:\n",
    "\n",
    "1. **Go to the repository on GitHub**: Navigate to the GitHub page of the repository you want to fork.\n",
    "\n",
    "2. **Click the \"Fork\" button**: In the top-right corner of the repository page, you'll see a \"Fork\" button. Click on it to start the forking process. If you're a member of multiple organizations, you may be asked to choose which account you'd like to fork the repository to.\n",
    "\n",
    "3. **Wait for the forking process to complete**: GitHub will create a copy of the repository under your account. This may take a few seconds to a minute, depending on the size of the repository.\n",
    "\n",
    "4. **Clone the forked repository**: Once the forking process is complete, you'll be redirected to the forked repository under your account. To clone the forked repository to your local machine, click the \"Code\" button, copy the repository URL, and then run the following command in your terminal:\n",
    "\n",
    "```bash\n",
    "git clone forked-repo-url\n",
    "```\n",
    "\n",
    "Replace `forked-repo-url` with the URL you copied from the GitHub page.\n",
    "\n",
    "Now, you have a local copy of the forked repository on your computer. You can make changes, create new branches, and push your changes back to your forked repository on GitHub. If you want to contribute your changes back to the original repository, you can create a pull request from your forked repository to the original one."
   ]
  },
  {
   "cell_type": "markdown",
   "metadata": {
    "tags": []
   },
   "source": [
    "## 6. Create repository via command line"
   ]
  },
  {
   "cell_type": "markdown",
   "metadata": {},
   "source": [
    "To create a GitHub repository using the command line, you will need to have `git` installed on your system and a GitHub account. You'll also need to have the `gh` CLI tool installed, which allows you to interact with GitHub directly from the command line. Follow these steps to create a new GitHub repository:\n",
    "\n",
    "1. **Install `git`**: If you don't have `git` installed on your system, you can download it from the [official website](https://git-scm.com/downloads) and follow the installation instructions.\n",
    "\n",
    "2. **Install the `gh` CLI tool**: Download and install the `gh` CLI tool from the [official GitHub CLI website](https://cli.github.com/). Follow the installation instructions for your operating system.\n",
    "\n",
    "3. **Authenticate with GitHub**: Once you have `gh` installed, open a terminal and authenticate with your GitHub account by running:\n",
    "\n",
    "```bash\n",
    "gh auth login\n",
    "```\n",
    "\n",
    "Follow the prompts to complete the authentication process.\n",
    "\n",
    "4. **Create a new GitHub repository**: To create a new GitHub repository, run the following command:\n",
    "\n",
    "```bash\n",
    "gh repo create your-repo-name --private\n",
    "```\n",
    "\n",
    "Replace `your-repo-name` with the desired name for your repository. By default, this command will create a private repository. To make it public, add the `--public` flag:\n",
    "\n",
    "```bash\n",
    "gh repo create your-repo-name --public\n",
    "```\n",
    "\n",
    "You can also add a description and specify the visibility (public/private) using flags:\n",
    "\n",
    "```bash\n",
    "gh repo create your-repo-name --description \"Your repo description\" --public\n",
    "```"
   ]
  }
 ],
 "metadata": {
  "kernelspec": {
   "display_name": "Python 3 (ipykernel)",
   "language": "python",
   "name": "python3"
  },
  "language_info": {
   "codemirror_mode": {
    "name": "ipython",
    "version": 3
   },
   "file_extension": ".py",
   "mimetype": "text/x-python",
   "name": "python",
   "nbconvert_exporter": "python",
   "pygments_lexer": "ipython3",
   "version": "3.8.5"
  }
 },
 "nbformat": 4,
 "nbformat_minor": 5
}
